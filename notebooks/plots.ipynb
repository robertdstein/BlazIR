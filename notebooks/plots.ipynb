{
 "cells": [
  {
   "cell_type": "code",
   "execution_count": 1,
   "id": "06733edf",
   "metadata": {},
   "outputs": [],
   "source": [
    "%matplotlib inline\n",
    "import matplotlib.pyplot as plt\n",
    "from blazir.data import bright_bzb_cat\n",
    "import numpy as np"
   ]
  },
  {
   "cell_type": "code",
   "execution_count": 3,
   "id": "c30f704e",
   "metadata": {},
   "outputs": [
    {
     "data": {
      "text/plain": [
       "(array([ 18.,   0.,   0.,   0.,   2.,   8.,  12.,  18.,  44., 186.]),\n",
       " array([ 0.  ,  1.59,  3.18,  4.77,  6.36,  7.95,  9.54, 11.13, 12.72,\n",
       "        14.31, 15.9 ]),\n",
       " <BarContainer object of 10 artists>)"
      ]
     },
     "execution_count": 3,
     "metadata": {},
     "output_type": "execute_result"
    },
    {
     "data": {
      "image/png": "[encoded data removed]",
      "text/plain": [
       "<Figure size 432x288 with 1 Axes>"
      ]
     },
     "metadata": {
      "needs_background": "light"
     },
     "output_type": "display_data"
    }
   ],
   "source": [
    "plt.hist(bright_bzb_cat[\"Rmag\"])"
   ]
  },
  {
   "cell_type": "code",
   "execution_count": null,
   "id": "ac7d4607",
   "metadata": {},
   "outputs": [],
   "source": [
    "# print(np.sum(bzb_cat[\"Rmag\"] < 16.))"
   ]
  },
  {
   "cell_type": "code",
   "execution_count": null,
   "id": "1deab25b",
   "metadata": {},
   "outputs": [],
   "source": []
  }
 ],
 "metadata": {
  "kernelspec": {
   "display_name": "blazir_env",
   "language": "python",
   "name": "blazir_env"
  },
  "language_info": {
   "codemirror_mode": {
    "name": "ipython",
    "version": 3
   },
   "file_extension": ".py",
   "mimetype": "text/x-python",
   "name": "python",
   "nbconvert_exporter": "python",
   "pygments_lexer": "ipython3",
   "version": "3.10.4"
  }
 },
 "nbformat": 4,
 "nbformat_minor": 5
}
